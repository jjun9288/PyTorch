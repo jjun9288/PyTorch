{
 "cells": [
  {
   "cell_type": "markdown",
   "id": "1909a11e",
   "metadata": {},
   "source": [
    "## nn.Module로 구현하는 선형 회귀"
   ]
  },
  {
   "cell_type": "markdown",
   "id": "6b2b0cde",
   "metadata": {},
   "source": [
    "- PyTorch에는 선형 회귀 모델, 평균 제곱오차가 구현되어 있다.   "
   ]
  },
  {
   "cell_type": "markdown",
   "id": "cc84d392",
   "metadata": {},
   "source": [
    "### 1. 단순 선형 회귀 구현"
   ]
  },
  {
   "cell_type": "code",
   "execution_count": 3,
   "id": "5c175efb",
   "metadata": {},
   "outputs": [
    {
     "data": {
      "text/plain": [
       "<torch._C.Generator at 0x135a471c770>"
      ]
     },
     "execution_count": 3,
     "metadata": {},
     "output_type": "execute_result"
    }
   ],
   "source": [
    "import torch\n",
    "import torch.nn as nn\n",
    "import torch.nn.functional as F\n",
    "\n",
    "torch.manual_seed(1)"
   ]
  },
  {
   "cell_type": "code",
   "execution_count": 4,
   "id": "94f78055",
   "metadata": {},
   "outputs": [],
   "source": [
    "x_train = torch.FloatTensor([[1], [2], [3]])\n",
    "y_train = torch.FloatTensor([[2], [4], [6]])"
   ]
  },
  {
   "cell_type": "code",
   "execution_count": 5,
   "id": "a4b608cf",
   "metadata": {},
   "outputs": [],
   "source": [
    "# 선형 회귀 모델 nn.Linear(input_dim, output_dim)\n",
    "model = nn.Linear(1, 1)   "
   ]
  },
  {
   "cell_type": "code",
   "execution_count": 6,
   "id": "54bf90b1",
   "metadata": {},
   "outputs": [
    {
     "name": "stdout",
     "output_type": "stream",
     "text": [
      "[Parameter containing:\n",
      "tensor([[0.5153]], requires_grad=True), Parameter containing:\n",
      "tensor([-0.4414], requires_grad=True)]\n"
     ]
    }
   ],
   "source": [
    "# model에는 W와 b가 저장되어 있다. (랜덤 값)\n",
    "print(list(model.parameters()))"
   ]
  },
  {
   "cell_type": "code",
   "execution_count": 7,
   "id": "f666dbed",
   "metadata": {},
   "outputs": [],
   "source": [
    "# optimizer 정의\n",
    "optimizer = torch.optim.SGD(model.parameters(), lr = 0.01)"
   ]
  },
  {
   "cell_type": "code",
   "execution_count": 8,
   "id": "4c62e698",
   "metadata": {},
   "outputs": [
    {
     "name": "stdout",
     "output_type": "stream",
     "text": [
      "Epoch    0/2000 Cost : 13.103541\n",
      "Epoch  100/2000 Cost : 0.002791\n",
      "Epoch  200/2000 Cost : 0.001724\n",
      "Epoch  300/2000 Cost : 0.001066\n",
      "Epoch  400/2000 Cost : 0.000658\n",
      "Epoch  500/2000 Cost : 0.000407\n",
      "Epoch  600/2000 Cost : 0.000251\n",
      "Epoch  700/2000 Cost : 0.000155\n",
      "Epoch  800/2000 Cost : 0.000096\n",
      "Epoch  900/2000 Cost : 0.000059\n",
      "Epoch 1000/2000 Cost : 0.000037\n",
      "Epoch 1100/2000 Cost : 0.000023\n",
      "Epoch 1200/2000 Cost : 0.000014\n",
      "Epoch 1300/2000 Cost : 0.000009\n",
      "Epoch 1400/2000 Cost : 0.000005\n",
      "Epoch 1500/2000 Cost : 0.000003\n",
      "Epoch 1600/2000 Cost : 0.000002\n",
      "Epoch 1700/2000 Cost : 0.000001\n",
      "Epoch 1800/2000 Cost : 0.000001\n",
      "Epoch 1900/2000 Cost : 0.000000\n",
      "Epoch 2000/2000 Cost : 0.000000\n"
     ]
    }
   ],
   "source": [
    "EPOCH = 2000\n",
    "for epoch in range(EPOCH+1):\n",
    "    \n",
    "    #H(x) 계산\n",
    "    prediction = model(x_train)\n",
    "    \n",
    "    #cost 계산\n",
    "    cost = F.mse_loss(prediction, y_train)\n",
    "    \n",
    "    #cost로 H(x) 개선하는 부분\n",
    "    optimizer.zero_grad()\n",
    "    cost.backward()\n",
    "    optimizer.step()\n",
    "    \n",
    "    if epoch % 100 == 0:\n",
    "        print('Epoch {:4d}/{} Cost : {:.6f}'.format(epoch, EPOCH, cost.item()))\n",
    "    "
   ]
  },
  {
   "cell_type": "markdown",
   "id": "dbc336ce",
   "metadata": {},
   "source": [
    "- W와 b가 최적화 되어있는지 확인해보자"
   ]
  },
  {
   "cell_type": "code",
   "execution_count": 12,
   "id": "6d60797f",
   "metadata": {},
   "outputs": [
    {
     "name": "stdout",
     "output_type": "stream",
     "text": [
      "tensor([[7.9989]], grad_fn=<AddmmBackward0>)\n"
     ]
    }
   ],
   "source": [
    "new = torch.FloatTensor([[4.0]])\n",
    "pred = model(new)\n",
    "print(pred)"
   ]
  },
  {
   "cell_type": "markdown",
   "id": "2e060858",
   "metadata": {},
   "source": [
    "- 8에 가까운걸 보아 어느정도 최적화된 것을 확인할 수 있다."
   ]
  },
  {
   "cell_type": "markdown",
   "id": "026e6517",
   "metadata": {},
   "source": [
    "### 2. 다중 선형 회귀 구현"
   ]
  },
  {
   "cell_type": "code",
   "execution_count": 19,
   "id": "d00a7e92",
   "metadata": {},
   "outputs": [
    {
     "data": {
      "text/plain": [
       "<torch._C.Generator at 0x135a471c770>"
      ]
     },
     "execution_count": 19,
     "metadata": {},
     "output_type": "execute_result"
    }
   ],
   "source": [
    "torch.manual_seed(1)"
   ]
  },
  {
   "cell_type": "code",
   "execution_count": 20,
   "id": "e45d0d37",
   "metadata": {},
   "outputs": [],
   "source": [
    "x_train = torch.FloatTensor([[73, 80, 75],\n",
    "                            [93, 88, 93],\n",
    "                            [89, 91, 90],\n",
    "                            [96, 98, 100],\n",
    "                            [73, 66, 70]])\n",
    "\n",
    "y_train = torch.FloatTensor([[152], [185], [180], [196], [142]])"
   ]
  },
  {
   "cell_type": "code",
   "execution_count": 21,
   "id": "ef683b6d",
   "metadata": {},
   "outputs": [],
   "source": [
    "model = nn.Linear(3,1)"
   ]
  },
  {
   "cell_type": "code",
   "execution_count": 22,
   "id": "09e921d6",
   "metadata": {},
   "outputs": [
    {
     "name": "stdout",
     "output_type": "stream",
     "text": [
      "[Parameter containing:\n",
      "tensor([[ 0.2975, -0.2548, -0.1119]], requires_grad=True), Parameter containing:\n",
      "tensor([0.2710], requires_grad=True)]\n"
     ]
    }
   ],
   "source": [
    "print(list(model.parameters()))"
   ]
  },
  {
   "cell_type": "code",
   "execution_count": 23,
   "id": "7a0c8481",
   "metadata": {},
   "outputs": [],
   "source": [
    "optimizer = torch.optim.SGD(model.parameters(), lr=1e-5)"
   ]
  },
  {
   "cell_type": "code",
   "execution_count": 24,
   "id": "d27b1813",
   "metadata": {},
   "outputs": [
    {
     "name": "stdout",
     "output_type": "stream",
     "text": [
      "Epoch    0/2000 Cost : 31667.599609\n",
      "Epoch  100/2000 Cost : 0.225988\n",
      "Epoch  200/2000 Cost : 0.223909\n",
      "Epoch  300/2000 Cost : 0.221935\n",
      "Epoch  400/2000 Cost : 0.220059\n",
      "Epoch  500/2000 Cost : 0.218270\n",
      "Epoch  600/2000 Cost : 0.216571\n",
      "Epoch  700/2000 Cost : 0.214954\n",
      "Epoch  800/2000 Cost : 0.213418\n",
      "Epoch  900/2000 Cost : 0.211954\n",
      "Epoch 1000/2000 Cost : 0.210558\n",
      "Epoch 1100/2000 Cost : 0.209230\n",
      "Epoch 1200/2000 Cost : 0.207967\n",
      "Epoch 1300/2000 Cost : 0.206767\n",
      "Epoch 1400/2000 Cost : 0.205619\n",
      "Epoch 1500/2000 Cost : 0.204521\n",
      "Epoch 1600/2000 Cost : 0.203486\n",
      "Epoch 1700/2000 Cost : 0.202486\n",
      "Epoch 1800/2000 Cost : 0.201539\n",
      "Epoch 1900/2000 Cost : 0.200635\n",
      "Epoch 2000/2000 Cost : 0.199771\n"
     ]
    }
   ],
   "source": [
    "EPOCH = 2000\n",
    "\n",
    "for epoch in range(EPOCH + 1):\n",
    "    \n",
    "    prediction = model(x_train)\n",
    "    \n",
    "    cost = F.mse_loss(prediction, y_train)\n",
    "    \n",
    "    optimizer.zero_grad()\n",
    "    cost.backward()\n",
    "    optimizer.step()\n",
    "    \n",
    "    if epoch % 100 == 0:\n",
    "        print('Epoch {:4d}/{} Cost : {:.6f}'.format(epoch, EPOCH, cost.item()))"
   ]
  },
  {
   "cell_type": "markdown",
   "id": "21d2ac4f",
   "metadata": {},
   "source": [
    "- W와 b 최적화 확인"
   ]
  },
  {
   "cell_type": "code",
   "execution_count": 25,
   "id": "eb140ac7",
   "metadata": {},
   "outputs": [
    {
     "name": "stdout",
     "output_type": "stream",
     "text": [
      "tensor([[151.2305]], grad_fn=<AddmmBackward0>)\n"
     ]
    }
   ],
   "source": [
    "new = torch.FloatTensor([[73, 80, 75]])\n",
    "pred = model(new)\n",
    "print(pred)"
   ]
  },
  {
   "cell_type": "markdown",
   "id": "4bbad2fd",
   "metadata": {},
   "source": [
    "- 당시 y는 152였는데 151로 예측했으므로 어느정도 최적화 되었다고 볼 수 있다."
   ]
  },
  {
   "cell_type": "code",
   "execution_count": 26,
   "id": "30351836",
   "metadata": {},
   "outputs": [
    {
     "name": "stdout",
     "output_type": "stream",
     "text": [
      "[Parameter containing:\n",
      "tensor([[0.9778, 0.4539, 0.5768]], requires_grad=True), Parameter containing:\n",
      "tensor([0.2802], requires_grad=True)]\n"
     ]
    }
   ],
   "source": [
    "print(list(model.parameters()))"
   ]
  },
  {
   "cell_type": "code",
   "execution_count": null,
   "id": "2cfe22b8",
   "metadata": {},
   "outputs": [],
   "source": []
  }
 ],
 "metadata": {
  "kernelspec": {
   "display_name": "Python 3 (ipykernel)",
   "language": "python",
   "name": "python3"
  },
  "language_info": {
   "codemirror_mode": {
    "name": "ipython",
    "version": 3
   },
   "file_extension": ".py",
   "mimetype": "text/x-python",
   "name": "python",
   "nbconvert_exporter": "python",
   "pygments_lexer": "ipython3",
   "version": "3.8.8"
  }
 },
 "nbformat": 4,
 "nbformat_minor": 5
}
