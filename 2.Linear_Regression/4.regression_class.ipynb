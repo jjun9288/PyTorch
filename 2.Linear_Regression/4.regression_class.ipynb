{
 "cells": [
  {
   "cell_type": "markdown",
   "id": "6a42290d",
   "metadata": {},
   "source": [
    "## 모델을 class로 구현하기"
   ]
  },
  {
   "cell_type": "markdown",
   "id": "18e20378",
   "metadata": {},
   "source": [
    "### 1. 단순 선형 회귀 class로 구현하기"
   ]
  },
  {
   "cell_type": "code",
   "execution_count": 1,
   "id": "34d24056",
   "metadata": {},
   "outputs": [],
   "source": [
    "import torch\n",
    "import torch.nn as nn\n",
    "import torch.nn.functional as F"
   ]
  },
  {
   "cell_type": "code",
   "execution_count": 2,
   "id": "5d3d3351",
   "metadata": {},
   "outputs": [
    {
     "data": {
      "text/plain": [
       "<torch._C.Generator at 0x207562d5730>"
      ]
     },
     "execution_count": 2,
     "metadata": {},
     "output_type": "execute_result"
    }
   ],
   "source": [
    "torch.manual_seed(1)"
   ]
  },
  {
   "cell_type": "code",
   "execution_count": 3,
   "id": "d0a0cdb2",
   "metadata": {},
   "outputs": [],
   "source": [
    "x_train = torch.FloatTensor([[1], [2], [3]])\n",
    "y_train = torch.FloatTensor([[2], [4], [6]])"
   ]
  },
  {
   "cell_type": "code",
   "execution_count": 9,
   "id": "55cc74fa",
   "metadata": {},
   "outputs": [],
   "source": [
    "class LinearRegressionModel(nn.Module):\n",
    "    def __init__(self):\n",
    "        super().__init__()\n",
    "        self.linear = nn.Linear(1,1)\n",
    "        \n",
    "    def forward(self, x):\n",
    "        return self.linear(x)"
   ]
  },
  {
   "cell_type": "code",
   "execution_count": 10,
   "id": "04ae596e",
   "metadata": {},
   "outputs": [],
   "source": [
    "model = LinearRegressionModel()"
   ]
  },
  {
   "cell_type": "code",
   "execution_count": 11,
   "id": "4b31a549",
   "metadata": {},
   "outputs": [],
   "source": [
    "optimizer = torch.optim.SGD(model.parameters(), lr = 0.01)"
   ]
  },
  {
   "cell_type": "code",
   "execution_count": 14,
   "id": "f6baa9d2",
   "metadata": {},
   "outputs": [
    {
     "name": "stdout",
     "output_type": "stream",
     "text": [
      "Epoch    0 / 2000 Cost : 11.673522\n",
      "Epoch  100 / 2000 Cost : 0.126824\n",
      "Epoch  200 / 2000 Cost : 0.078370\n",
      "Epoch  300 / 2000 Cost : 0.048428\n",
      "Epoch  400 / 2000 Cost : 0.029925\n",
      "Epoch  500 / 2000 Cost : 0.018492\n",
      "Epoch  600 / 2000 Cost : 0.011427\n",
      "Epoch  700 / 2000 Cost : 0.007061\n",
      "Epoch  800 / 2000 Cost : 0.004363\n",
      "Epoch  900 / 2000 Cost : 0.002696\n",
      "Epoch 1000 / 2000 Cost : 0.001666\n",
      "Epoch 1100 / 2000 Cost : 0.001030\n",
      "Epoch 1200 / 2000 Cost : 0.000636\n",
      "Epoch 1300 / 2000 Cost : 0.000393\n",
      "Epoch 1400 / 2000 Cost : 0.000243\n",
      "Epoch 1500 / 2000 Cost : 0.000150\n",
      "Epoch 1600 / 2000 Cost : 0.000093\n",
      "Epoch 1700 / 2000 Cost : 0.000057\n",
      "Epoch 1800 / 2000 Cost : 0.000035\n",
      "Epoch 1900 / 2000 Cost : 0.000022\n",
      "Epoch 2000 / 2000 Cost : 0.000014\n"
     ]
    }
   ],
   "source": [
    "EPOCH = 2000\n",
    "\n",
    "for epoch in range(EPOCH + 1):\n",
    "    \n",
    "    prediction = model(x_train)\n",
    "    \n",
    "    cost = F.mse_loss(prediction, y_train)\n",
    "    \n",
    "    optimizer.zero_grad()\n",
    "    cost.backward()\n",
    "    optimizer.step()\n",
    "    \n",
    "    if epoch % 100 == 0:\n",
    "        print('Epoch {:4d} / {} Cost : {:.6f}'.format(epoch, EPOCH, cost.item()))"
   ]
  },
  {
   "cell_type": "markdown",
   "id": "2045dc84",
   "metadata": {},
   "source": [
    "### 2. 다중 선형 회귀 class로 구현하기"
   ]
  },
  {
   "cell_type": "code",
   "execution_count": 15,
   "id": "baaad734",
   "metadata": {},
   "outputs": [
    {
     "data": {
      "text/plain": [
       "<torch._C.Generator at 0x207562d5730>"
      ]
     },
     "execution_count": 15,
     "metadata": {},
     "output_type": "execute_result"
    }
   ],
   "source": [
    "torch.manual_seed(1)"
   ]
  },
  {
   "cell_type": "code",
   "execution_count": 17,
   "id": "f7825a88",
   "metadata": {},
   "outputs": [],
   "source": [
    "x_train = torch.FloatTensor([[73, 80, 75],\n",
    "                      [93, 88, 93],\n",
    "                      [89, 91, 90],\n",
    "                      [96, 98, 100],\n",
    "                      [73, 66, 70]])\n",
    "\n",
    "y_train = torch.FloatTensor([[152], [185], [180], [196], [142]])"
   ]
  },
  {
   "cell_type": "code",
   "execution_count": 18,
   "id": "748f3791",
   "metadata": {},
   "outputs": [],
   "source": [
    "class MultivariationLinearRegressionModel(nn.Module):\n",
    "    def __init__(self):\n",
    "        super().__init__()\n",
    "        self.linear = nn.Linear(3, 1)\n",
    "        \n",
    "    def forward(self,x):\n",
    "        return self.linear(x)"
   ]
  },
  {
   "cell_type": "code",
   "execution_count": 19,
   "id": "f04e2681",
   "metadata": {},
   "outputs": [],
   "source": [
    "model = MultivariationLinearRegressionModel()"
   ]
  },
  {
   "cell_type": "code",
   "execution_count": 20,
   "id": "1380aba2",
   "metadata": {},
   "outputs": [],
   "source": [
    "optimizer = torch.optim.SGD(model.parameters(), lr=1e-5)"
   ]
  },
  {
   "cell_type": "code",
   "execution_count": 21,
   "id": "4641d4e7",
   "metadata": {},
   "outputs": [
    {
     "name": "stdout",
     "output_type": "stream",
     "text": [
      "Epoch :    0 / 2000, Cost : 31667.599609\n",
      "Epoch :  100 / 2000, Cost : 0.225988\n",
      "Epoch :  200 / 2000, Cost : 0.223909\n",
      "Epoch :  300 / 2000, Cost : 0.221935\n",
      "Epoch :  400 / 2000, Cost : 0.220059\n",
      "Epoch :  500 / 2000, Cost : 0.218270\n",
      "Epoch :  600 / 2000, Cost : 0.216571\n",
      "Epoch :  700 / 2000, Cost : 0.214954\n",
      "Epoch :  800 / 2000, Cost : 0.213418\n",
      "Epoch :  900 / 2000, Cost : 0.211954\n",
      "Epoch : 1000 / 2000, Cost : 0.210558\n",
      "Epoch : 1100 / 2000, Cost : 0.209230\n",
      "Epoch : 1200 / 2000, Cost : 0.207967\n",
      "Epoch : 1300 / 2000, Cost : 0.206767\n",
      "Epoch : 1400 / 2000, Cost : 0.205619\n",
      "Epoch : 1500 / 2000, Cost : 0.204521\n",
      "Epoch : 1600 / 2000, Cost : 0.203486\n",
      "Epoch : 1700 / 2000, Cost : 0.202486\n",
      "Epoch : 1800 / 2000, Cost : 0.201539\n",
      "Epoch : 1900 / 2000, Cost : 0.200635\n",
      "Epoch : 2000 / 2000, Cost : 0.199771\n"
     ]
    }
   ],
   "source": [
    "EPOCH = 2000\n",
    "for epoch in range(EPOCH + 1):\n",
    "    \n",
    "    prediction = model(x_train)\n",
    "    \n",
    "    cost = F.mse_loss(prediction, y_train)\n",
    "    \n",
    "    optimizer.zero_grad()\n",
    "    cost.backward()\n",
    "    optimizer.step()\n",
    "    \n",
    "    if epoch % 100 == 0:\n",
    "        print('Epoch : {:4d} / {}, Cost : {:.6f}'.format(epoch, EPOCH, cost.item()))"
   ]
  },
  {
   "cell_type": "code",
   "execution_count": null,
   "id": "cf273b9c",
   "metadata": {},
   "outputs": [],
   "source": []
  }
 ],
 "metadata": {
  "kernelspec": {
   "display_name": "Python 3 (ipykernel)",
   "language": "python",
   "name": "python3"
  },
  "language_info": {
   "codemirror_mode": {
    "name": "ipython",
    "version": 3
   },
   "file_extension": ".py",
   "mimetype": "text/x-python",
   "name": "python",
   "nbconvert_exporter": "python",
   "pygments_lexer": "ipython3",
   "version": "3.8.8"
  }
 },
 "nbformat": 4,
 "nbformat_minor": 5
}
