{
 "cells": [
  {
   "cell_type": "markdown",
   "id": "5eb2de62",
   "metadata": {},
   "source": [
    "## 미니 배치와 데이터 로드"
   ]
  },
  {
   "cell_type": "markdown",
   "id": "b464ffb6",
   "metadata": {},
   "source": [
    "#### 1. Mini batch & Batch size"
   ]
  },
  {
   "attachments": {
    "image.png": {
     "image/png": "[encoded data removed]"
    }
   },
   "cell_type": "markdown",
   "id": "cf7499cf",
   "metadata": {},
   "source": [
    "만약 데이터 양이 기하급수적으로 많다면 전체 데이터에 대해 경사 하강법을 수행하는 것은 매우 느릴 뿐만 아니라 많은 계산량이 필요하다. 메모리의 한계로 계산이 불가능할 수도 있다.   \n",
    "그래서 전체 데이터를 작은 단위로 나누어서 해당 단위로 학습을 해야 한다. 이것이 mini batch 이다.\n",
    "\n",
    "![image.png](attachment:image.png)\n",
    "\n",
    "mini batch 학습을 하게되면 mini batch 만큼만 가져가서 해당 배치에 대한 cost를 계산하고 경사 하강법을 수행한다. 그 후 그다음 mini batch에 대해 같은 방법을 수행한다. 이렇게 전체 데이터에 대한 학습이 1회 끝나면 1Epoch가 끝나게 된다."
   ]
  },
  {
   "cell_type": "markdown",
   "id": "928d8e07",
   "metadata": {},
   "source": [
    "- batch size는 보통 2의 제곱수를 사용한다. 그 이유는 CPU와 GPU의 메모리가 2의 배수여서 batch size가 2의 제곱수일 경우 데이터 송수신의 효율을 높일 수 있다고 한다."
   ]
  },
  {
   "cell_type": "markdown",
   "id": "dab26789",
   "metadata": {},
   "source": [
    "#### 2. Iteration"
   ]
  },
  {
   "attachments": {
    "image.png": {
     "image/png": "[encoded data removed]"
    }
   },
   "cell_type": "markdown",
   "id": "48742301",
   "metadata": {},
   "source": [
    "![image.png](attachment:image.png)\n",
    "\n",
    "Iteration은 한 번의 epoch 내에서 이루어지는 parameter인 W와 b의 업데이트 횟수이다.   \n",
    "전체 데이터가 2000, batch size = 200이면 iteration의 수는 총 10개이다. 이는 한 번의 epoch 당 parameter 업데이트가 10번 이루어짐을 말한다."
   ]
  },
  {
   "cell_type": "markdown",
   "id": "f1bc94ff",
   "metadata": {},
   "source": [
    "#### 3. 데이터 로드하기 (Data Load)"
   ]
  },
  {
   "cell_type": "markdown",
   "id": "20e505e5",
   "metadata": {},
   "source": [
    "PyTorch에서는 데이터를 쉽게 다루기 위해 Dataset과 DataLoader를 제공한다고 한다. 이를 사용하여 mini batch 학습, 데이터 shuffle, 병렬 처리까지 간단히 수행할 수 있다.   \n",
    "기본적인 사용 방법은 Dataset을 정의한 후 이를 DataLoader에 전달하는 것이다."
   ]
  },
  {
   "cell_type": "code",
   "execution_count": 1,
   "id": "e0decb17",
   "metadata": {},
   "outputs": [],
   "source": [
    "import torch\n",
    "import torch.nn as nn\n",
    "import torch.nn.functional as F"
   ]
  },
  {
   "cell_type": "code",
   "execution_count": 2,
   "id": "fb362a4a",
   "metadata": {},
   "outputs": [],
   "source": [
    "from torch.utils.data import TensorDataset\n",
    "from torch.utils.data import DataLoader"
   ]
  },
  {
   "cell_type": "code",
   "execution_count": 3,
   "id": "63d1cb07",
   "metadata": {},
   "outputs": [],
   "source": [
    "x_train = torch.FloatTensor([[73, 80, 75],\n",
    "                            [93, 88, 93],\n",
    "                            [89, 91, 90],\n",
    "                            [96, 98, 100],\n",
    "                            [73, 66, 70]])\n",
    "\n",
    "y_train = torch.FloatTensor([[152], [185], [180], [196], [142]])"
   ]
  },
  {
   "cell_type": "code",
   "execution_count": 4,
   "id": "9c5d3a55",
   "metadata": {},
   "outputs": [],
   "source": [
    "dataset = TensorDataset(x_train, y_train)"
   ]
  },
  {
   "cell_type": "code",
   "execution_count": 5,
   "id": "5de13030",
   "metadata": {},
   "outputs": [],
   "source": [
    "dataloader = DataLoader(dataset, batch_size=2, shuffle=True)"
   ]
  },
  {
   "cell_type": "code",
   "execution_count": 6,
   "id": "9add1961",
   "metadata": {},
   "outputs": [],
   "source": [
    "model = nn.Linear(3,1)\n",
    "optimizer = torch.optim.SGD(model.parameters(), lr=1e-5)"
   ]
  },
  {
   "cell_type": "code",
   "execution_count": 8,
   "id": "ad510947",
   "metadata": {},
   "outputs": [
    {
     "name": "stdout",
     "output_type": "stream",
     "text": [
      "0\n",
      "[tensor([[ 96.,  98., 100.],\n",
      "        [ 73.,  66.,  70.]]), tensor([[196.],\n",
      "        [142.]])]\n",
      "1\n",
      "[tensor([[89., 91., 90.],\n",
      "        [73., 80., 75.]]), tensor([[180.],\n",
      "        [152.]])]\n",
      "2\n",
      "[tensor([[93., 88., 93.]]), tensor([[185.]])]\n",
      "0\n",
      "[tensor([[93., 88., 93.],\n",
      "        [73., 80., 75.]]), tensor([[185.],\n",
      "        [152.]])]\n",
      "1\n",
      "[tensor([[89., 91., 90.],\n",
      "        [73., 66., 70.]]), tensor([[180.],\n",
      "        [142.]])]\n",
      "2\n",
      "[tensor([[ 96.,  98., 100.]]), tensor([[196.]])]\n",
      "0\n",
      "[tensor([[73., 66., 70.],\n",
      "        [73., 80., 75.]]), tensor([[142.],\n",
      "        [152.]])]\n",
      "1\n",
      "[tensor([[ 89.,  91.,  90.],\n",
      "        [ 96.,  98., 100.]]), tensor([[180.],\n",
      "        [196.]])]\n",
      "2\n",
      "[tensor([[93., 88., 93.]]), tensor([[185.]])]\n",
      "0\n",
      "[tensor([[73., 80., 75.],\n",
      "        [93., 88., 93.]]), tensor([[152.],\n",
      "        [185.]])]\n",
      "1\n",
      "[tensor([[ 73.,  66.,  70.],\n",
      "        [ 96.,  98., 100.]]), tensor([[142.],\n",
      "        [196.]])]\n",
      "2\n",
      "[tensor([[89., 91., 90.]]), tensor([[180.]])]\n",
      "0\n",
      "[tensor([[89., 91., 90.],\n",
      "        [73., 80., 75.]]), tensor([[180.],\n",
      "        [152.]])]\n",
      "1\n",
      "[tensor([[ 93.,  88.,  93.],\n",
      "        [ 96.,  98., 100.]]), tensor([[185.],\n",
      "        [196.]])]\n",
      "2\n",
      "[tensor([[73., 66., 70.]]), tensor([[142.]])]\n",
      "0\n",
      "[tensor([[73., 80., 75.],\n",
      "        [73., 66., 70.]]), tensor([[152.],\n",
      "        [142.]])]\n",
      "1\n",
      "[tensor([[ 89.,  91.,  90.],\n",
      "        [ 96.,  98., 100.]]), tensor([[180.],\n",
      "        [196.]])]\n",
      "2\n",
      "[tensor([[93., 88., 93.]]), tensor([[185.]])]\n",
      "0\n",
      "[tensor([[73., 66., 70.],\n",
      "        [73., 80., 75.]]), tensor([[142.],\n",
      "        [152.]])]\n",
      "1\n",
      "[tensor([[ 93.,  88.,  93.],\n",
      "        [ 96.,  98., 100.]]), tensor([[185.],\n",
      "        [196.]])]\n",
      "2\n",
      "[tensor([[89., 91., 90.]]), tensor([[180.]])]\n",
      "0\n",
      "[tensor([[93., 88., 93.],\n",
      "        [73., 66., 70.]]), tensor([[185.],\n",
      "        [142.]])]\n",
      "1\n",
      "[tensor([[ 96.,  98., 100.],\n",
      "        [ 73.,  80.,  75.]]), tensor([[196.],\n",
      "        [152.]])]\n",
      "2\n",
      "[tensor([[89., 91., 90.]]), tensor([[180.]])]\n",
      "0\n",
      "[tensor([[93., 88., 93.],\n",
      "        [89., 91., 90.]]), tensor([[185.],\n",
      "        [180.]])]\n",
      "1\n",
      "[tensor([[73., 66., 70.],\n",
      "        [73., 80., 75.]]), tensor([[142.],\n",
      "        [152.]])]\n",
      "2\n",
      "[tensor([[ 96.,  98., 100.]]), tensor([[196.]])]\n",
      "0\n",
      "[tensor([[73., 66., 70.],\n",
      "        [93., 88., 93.]]), tensor([[142.],\n",
      "        [185.]])]\n",
      "1\n",
      "[tensor([[73., 80., 75.],\n",
      "        [89., 91., 90.]]), tensor([[152.],\n",
      "        [180.]])]\n",
      "2\n",
      "[tensor([[ 96.,  98., 100.]]), tensor([[196.]])]\n",
      "0\n",
      "[tensor([[ 96.,  98., 100.],\n",
      "        [ 73.,  66.,  70.]]), tensor([[196.],\n",
      "        [142.]])]\n",
      "1\n",
      "[tensor([[93., 88., 93.],\n",
      "        [73., 80., 75.]]), tensor([[185.],\n",
      "        [152.]])]\n",
      "2\n",
      "[tensor([[89., 91., 90.]]), tensor([[180.]])]\n",
      "0\n",
      "[tensor([[ 96.,  98., 100.],\n",
      "        [ 93.,  88.,  93.]]), tensor([[196.],\n",
      "        [185.]])]\n",
      "1\n",
      "[tensor([[73., 66., 70.],\n",
      "        [73., 80., 75.]]), tensor([[142.],\n",
      "        [152.]])]\n",
      "2\n",
      "[tensor([[89., 91., 90.]]), tensor([[180.]])]\n",
      "0\n",
      "[tensor([[73., 80., 75.],\n",
      "        [93., 88., 93.]]), tensor([[152.],\n",
      "        [185.]])]\n",
      "1\n",
      "[tensor([[ 96.,  98., 100.],\n",
      "        [ 73.,  66.,  70.]]), tensor([[196.],\n",
      "        [142.]])]\n",
      "2\n",
      "[tensor([[89., 91., 90.]]), tensor([[180.]])]\n",
      "0\n",
      "[tensor([[89., 91., 90.],\n",
      "        [93., 88., 93.]]), tensor([[180.],\n",
      "        [185.]])]\n",
      "1\n",
      "[tensor([[ 73.,  66.,  70.],\n",
      "        [ 96.,  98., 100.]]), tensor([[142.],\n",
      "        [196.]])]\n",
      "2\n",
      "[tensor([[73., 80., 75.]]), tensor([[152.]])]\n",
      "0\n",
      "[tensor([[73., 80., 75.],\n",
      "        [93., 88., 93.]]), tensor([[152.],\n",
      "        [185.]])]\n",
      "1\n",
      "[tensor([[ 89.,  91.,  90.],\n",
      "        [ 96.,  98., 100.]]), tensor([[180.],\n",
      "        [196.]])]\n",
      "2\n",
      "[tensor([[73., 66., 70.]]), tensor([[142.]])]\n",
      "0\n",
      "[tensor([[73., 80., 75.],\n",
      "        [73., 66., 70.]]), tensor([[152.],\n",
      "        [142.]])]\n",
      "1\n",
      "[tensor([[ 96.,  98., 100.],\n",
      "        [ 89.,  91.,  90.]]), tensor([[196.],\n",
      "        [180.]])]\n",
      "2\n",
      "[tensor([[93., 88., 93.]]), tensor([[185.]])]\n",
      "0\n",
      "[tensor([[ 93.,  88.,  93.],\n",
      "        [ 96.,  98., 100.]]), tensor([[185.],\n",
      "        [196.]])]\n",
      "1\n",
      "[tensor([[73., 80., 75.],\n",
      "        [73., 66., 70.]]), tensor([[152.],\n",
      "        [142.]])]\n",
      "2\n",
      "[tensor([[89., 91., 90.]]), tensor([[180.]])]\n",
      "0\n",
      "[tensor([[73., 80., 75.],\n",
      "        [93., 88., 93.]]), tensor([[152.],\n",
      "        [185.]])]\n",
      "1\n",
      "[tensor([[ 73.,  66.,  70.],\n",
      "        [ 96.,  98., 100.]]), tensor([[142.],\n",
      "        [196.]])]\n",
      "2\n",
      "[tensor([[89., 91., 90.]]), tensor([[180.]])]\n",
      "0\n",
      "[tensor([[73., 80., 75.],\n",
      "        [73., 66., 70.]]), tensor([[152.],\n",
      "        [142.]])]\n",
      "1\n",
      "[tensor([[ 89.,  91.,  90.],\n",
      "        [ 96.,  98., 100.]]), tensor([[180.],\n",
      "        [196.]])]\n",
      "2\n",
      "[tensor([[93., 88., 93.]]), tensor([[185.]])]\n",
      "0\n",
      "[tensor([[93., 88., 93.],\n",
      "        [73., 66., 70.]]), tensor([[185.],\n",
      "        [142.]])]\n",
      "1\n",
      "[tensor([[ 96.,  98., 100.],\n",
      "        [ 73.,  80.,  75.]]), tensor([[196.],\n",
      "        [152.]])]\n",
      "2\n",
      "[tensor([[89., 91., 90.]]), tensor([[180.]])]\n",
      "0\n",
      "[tensor([[73., 66., 70.],\n",
      "        [73., 80., 75.]]), tensor([[142.],\n",
      "        [152.]])]\n",
      "1\n",
      "[tensor([[ 96.,  98., 100.],\n",
      "        [ 89.,  91.,  90.]]), tensor([[196.],\n",
      "        [180.]])]\n",
      "2\n",
      "[tensor([[93., 88., 93.]]), tensor([[185.]])]\n"
     ]
    }
   ],
   "source": [
    "# visualize\n",
    "EPOCH = 20\n",
    "\n",
    "for epoch in range(EPOCH + 1):\n",
    "    for batch_idx, samples in enumerate(dataloader):\n",
    "        print(batch_idx)\n",
    "        print(samples)"
   ]
  },
  {
   "cell_type": "code",
   "execution_count": 10,
   "id": "91ec713d",
   "metadata": {},
   "outputs": [
    {
     "name": "stdout",
     "output_type": "stream",
     "text": [
      "Epoch    0/20 Batch 1/3 Cost : 17512.996094\n",
      "Epoch    0/20 Batch 2/3 Cost : 5029.813477\n",
      "Epoch    0/20 Batch 3/3 Cost : 2436.593506\n",
      "Epoch    1/20 Batch 1/3 Cost : 517.737671\n",
      "Epoch    1/20 Batch 2/3 Cost : 78.023483\n",
      "Epoch    1/20 Batch 3/3 Cost : 76.666412\n",
      "Epoch    2/20 Batch 1/3 Cost : 8.373748\n",
      "Epoch    2/20 Batch 2/3 Cost : 11.554391\n",
      "Epoch    2/20 Batch 3/3 Cost : 2.795268\n",
      "Epoch    3/20 Batch 1/3 Cost : 0.738647\n",
      "Epoch    3/20 Batch 2/3 Cost : 8.935086\n",
      "Epoch    3/20 Batch 3/3 Cost : 0.163296\n",
      "Epoch    4/20 Batch 1/3 Cost : 3.612487\n",
      "Epoch    4/20 Batch 2/3 Cost : 5.621673\n",
      "Epoch    4/20 Batch 3/3 Cost : 0.001991\n",
      "Epoch    5/20 Batch 1/3 Cost : 2.473842\n",
      "Epoch    5/20 Batch 2/3 Cost : 2.115791\n",
      "Epoch    5/20 Batch 3/3 Cost : 5.058244\n",
      "Epoch    6/20 Batch 1/3 Cost : 3.245471\n",
      "Epoch    6/20 Batch 2/3 Cost : 3.944609\n",
      "Epoch    6/20 Batch 3/3 Cost : 1.539317\n",
      "Epoch    7/20 Batch 1/3 Cost : 1.343055\n",
      "Epoch    7/20 Batch 2/3 Cost : 4.698148\n",
      "Epoch    7/20 Batch 3/3 Cost : 3.478986\n",
      "Epoch    8/20 Batch 1/3 Cost : 3.980943\n",
      "Epoch    8/20 Batch 2/3 Cost : 2.392767\n",
      "Epoch    8/20 Batch 3/3 Cost : 4.035172\n",
      "Epoch    9/20 Batch 1/3 Cost : 2.239563\n",
      "Epoch    9/20 Batch 2/3 Cost : 4.502965\n",
      "Epoch    9/20 Batch 3/3 Cost : 0.339791\n",
      "Epoch   10/20 Batch 1/3 Cost : 2.051347\n",
      "Epoch   10/20 Batch 2/3 Cost : 2.079340\n",
      "Epoch   10/20 Batch 3/3 Cost : 5.397880\n",
      "Epoch   11/20 Batch 1/3 Cost : 0.856275\n",
      "Epoch   11/20 Batch 2/3 Cost : 3.416629\n",
      "Epoch   11/20 Batch 3/3 Cost : 5.525828\n",
      "Epoch   12/20 Batch 1/3 Cost : 4.696731\n",
      "Epoch   12/20 Batch 2/3 Cost : 4.774212\n",
      "Epoch   12/20 Batch 3/3 Cost : 0.773308\n",
      "Epoch   13/20 Batch 1/3 Cost : 2.209569\n",
      "Epoch   13/20 Batch 2/3 Cost : 3.361692\n",
      "Epoch   13/20 Batch 3/3 Cost : 3.251117\n",
      "Epoch   14/20 Batch 1/3 Cost : 4.547226\n",
      "Epoch   14/20 Batch 2/3 Cost : 2.066778\n",
      "Epoch   14/20 Batch 3/3 Cost : 0.404285\n",
      "Epoch   15/20 Batch 1/3 Cost : 2.844681\n",
      "Epoch   15/20 Batch 2/3 Cost : 3.325029\n",
      "Epoch   15/20 Batch 3/3 Cost : 0.064825\n",
      "Epoch   16/20 Batch 1/3 Cost : 2.274950\n",
      "Epoch   16/20 Batch 2/3 Cost : 1.934117\n",
      "Epoch   16/20 Batch 3/3 Cost : 5.465518\n",
      "Epoch   17/20 Batch 1/3 Cost : 0.931430\n",
      "Epoch   17/20 Batch 2/3 Cost : 4.527148\n",
      "Epoch   17/20 Batch 3/3 Cost : 4.798183\n",
      "Epoch   18/20 Batch 1/3 Cost : 4.475205\n",
      "Epoch   18/20 Batch 2/3 Cost : 2.057185\n",
      "Epoch   18/20 Batch 3/3 Cost : 0.389901\n",
      "Epoch   19/20 Batch 1/3 Cost : 2.827563\n",
      "Epoch   19/20 Batch 2/3 Cost : 1.154237\n",
      "Epoch   19/20 Batch 3/3 Cost : 5.582863\n",
      "Epoch   20/20 Batch 1/3 Cost : 0.419380\n",
      "Epoch   20/20 Batch 2/3 Cost : 4.136598\n",
      "Epoch   20/20 Batch 3/3 Cost : 4.509985\n"
     ]
    }
   ],
   "source": [
    "EPOCH = 20\n",
    "\n",
    "for epoch in range(EPOCH + 1):\n",
    "    for batch_idx, samples in enumerate(dataloader):\n",
    "        \n",
    "        x_train, y_train = samples\n",
    "        \n",
    "        prediction = model(x_train)\n",
    "        \n",
    "        cost = F.mse_loss(prediction, y_train)\n",
    "        \n",
    "        optimizer.zero_grad()\n",
    "        cost.backward()\n",
    "        optimizer.step()\n",
    "        \n",
    "        print('Epoch {:4d}/{} Batch {}/{} Cost : {:.6f}'\n",
    "              .format(epoch, EPOCH, batch_idx+1, len(dataloader), cost.item()))"
   ]
  },
  {
   "cell_type": "markdown",
   "id": "5b42b3c2",
   "metadata": {},
   "source": [
    "예측값 확인"
   ]
  },
  {
   "cell_type": "code",
   "execution_count": 11,
   "id": "2bc339d2",
   "metadata": {},
   "outputs": [
    {
     "name": "stdout",
     "output_type": "stream",
     "text": [
      "tensor([[153.5388]], grad_fn=<AddmmBackward0>)\n"
     ]
    }
   ],
   "source": [
    "new = torch.FloatTensor([[73, 80, 75]])\n",
    "pred = model(new)\n",
    "print(pred)"
   ]
  },
  {
   "cell_type": "markdown",
   "id": "7d253b89",
   "metadata": {},
   "source": [
    "실제값이 152이고 153을 예측했으므로 나쁘지 않다."
   ]
  }
 ],
 "metadata": {
  "kernelspec": {
   "display_name": "Python 3 (ipykernel)",
   "language": "python",
   "name": "python3"
  },
  "language_info": {
   "codemirror_mode": {
    "name": "ipython",
    "version": 3
   },
   "file_extension": ".py",
   "mimetype": "text/x-python",
   "name": "python",
   "nbconvert_exporter": "python",
   "pygments_lexer": "ipython3",
   "version": "3.8.8"
  }
 },
 "nbformat": 4,
 "nbformat_minor": 5
}
