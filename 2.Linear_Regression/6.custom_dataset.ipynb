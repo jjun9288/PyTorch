{
 "cells": [
  {
   "cell_type": "markdown",
   "id": "f8c1ab4e",
   "metadata": {},
   "source": [
    "## Custom Dataset"
   ]
  },
  {
   "cell_type": "markdown",
   "id": "c13dd14b",
   "metadata": {},
   "source": [
    "이전에 Dataset과 DataLoader를 이용하여 간단하게 mini batch, shuffle, 병렬처리를 수행했다.   \n",
    "그런데 torch.utils.data.Dataset을 상속받아 직접 Custom Dataset을 만들 수도 있다."
   ]
  },
  {
   "cell_type": "code",
   "execution_count": 4,
   "id": "26609be0",
   "metadata": {},
   "outputs": [],
   "source": [
    "import torch\n",
    "import torch.nn as nn\n",
    "import torch.nn.functional as F"
   ]
  },
  {
   "cell_type": "code",
   "execution_count": 9,
   "id": "00a236ee",
   "metadata": {},
   "outputs": [],
   "source": [
    "from torch.utils.data import Dataset\n",
    "from torch.utils.data import DataLoader"
   ]
  },
  {
   "cell_type": "code",
   "execution_count": 5,
   "id": "d25b99f7",
   "metadata": {},
   "outputs": [],
   "source": [
    "class CustomDataset(torch.utils.data.Dataset):\n",
    "    def __init__(self):\n",
    "        pass  #데이터 전처리를 해주는 부분\n",
    "    \n",
    "    def __len__(self):\n",
    "        pass  #데이터셋의 길이. 즉 총 샘플의 수를 적어주는 부분\n",
    "    \n",
    "    def __getitem__(self, idx):\n",
    "        pass  #데이터셋에서 특정 1개의 샘플을 가져오는 함수 (인덱싱을 위한 것)"
   ]
  },
  {
   "cell_type": "markdown",
   "id": "9007c842",
   "metadata": {},
   "source": [
    "#### Custom dataset으로 선형 회귀 구현"
   ]
  },
  {
   "cell_type": "code",
   "execution_count": 10,
   "id": "a16bfa9d",
   "metadata": {},
   "outputs": [],
   "source": [
    "class CustomDataset(Dataset):\n",
    "    def __init__(self):\n",
    "        self.x_data = [[73,80,75],\n",
    "                      [93,88,93],\n",
    "                      [89,91,90],\n",
    "                      [96,98,100],\n",
    "                      [73,66,70]]\n",
    "        \n",
    "        self.y_data = [[152], [185], [180], [196], [142]]\n",
    "        \n",
    "    \n",
    "    def __len__(self):\n",
    "        return len(self.x_data)\n",
    "    \n",
    "    \n",
    "    def __getitem__(self, idx):\n",
    "        x = torch.FloatTensor(self.x_data[idx])\n",
    "        y = torch.FloatTensor(self.y_data[idx])\n",
    "        return x,y"
   ]
  },
  {
   "cell_type": "code",
   "execution_count": 11,
   "id": "cae47897",
   "metadata": {},
   "outputs": [],
   "source": [
    "dataset = CustomDataset()\n",
    "dataloader = DataLoader(dataset, batch_size=2, shuffle=True)"
   ]
  },
  {
   "cell_type": "code",
   "execution_count": 12,
   "id": "11b73dcb",
   "metadata": {},
   "outputs": [],
   "source": [
    "model = torch.nn.Linear(3,1)\n",
    "optimizer = torch.optim.SGD(model.parameters(), lr=1e-5)"
   ]
  },
  {
   "cell_type": "code",
   "execution_count": 14,
   "id": "06e2a0e3",
   "metadata": {},
   "outputs": [
    {
     "name": "stdout",
     "output_type": "stream",
     "text": [
      "Epoch    0/20, Batch1/3 Cost : 9788.625000\n",
      "Epoch    0/20, Batch2/3 Cost : 2960.798584\n",
      "Epoch    0/20, Batch3/3 Cost : 1578.768433\n",
      "Epoch    1/20, Batch1/3 Cost : 236.251984\n",
      "Epoch    1/20, Batch2/3 Cost : 74.746506\n",
      "Epoch    1/20, Batch3/3 Cost : 28.146023\n",
      "Epoch    2/20, Batch1/3 Cost : 9.927797\n",
      "Epoch    2/20, Batch2/3 Cost : 3.556170\n",
      "Epoch    2/20, Batch3/3 Cost : 0.032871\n",
      "Epoch    3/20, Batch1/3 Cost : 0.101132\n",
      "Epoch    3/20, Batch2/3 Cost : 2.555525\n",
      "Epoch    3/20, Batch3/3 Cost : 3.255740\n",
      "Epoch    4/20, Batch1/3 Cost : 1.516757\n",
      "Epoch    4/20, Batch2/3 Cost : 1.304674\n",
      "Epoch    4/20, Batch3/3 Cost : 2.272394\n",
      "Epoch    5/20, Batch1/3 Cost : 1.729372\n",
      "Epoch    5/20, Batch2/3 Cost : 1.602250\n",
      "Epoch    5/20, Batch3/3 Cost : 1.506515\n",
      "Epoch    6/20, Batch1/3 Cost : 1.981860\n",
      "Epoch    6/20, Batch2/3 Cost : 1.697314\n",
      "Epoch    6/20, Batch3/3 Cost : 0.933929\n",
      "Epoch    7/20, Batch1/3 Cost : 2.138740\n",
      "Epoch    7/20, Batch2/3 Cost : 1.349657\n",
      "Epoch    7/20, Batch3/3 Cost : 1.012244\n",
      "Epoch    8/20, Batch1/3 Cost : 3.288137\n",
      "Epoch    8/20, Batch2/3 Cost : 2.101779\n",
      "Epoch    8/20, Batch3/3 Cost : 0.195946\n",
      "Epoch    9/20, Batch1/3 Cost : 0.252231\n",
      "Epoch    9/20, Batch2/3 Cost : 2.171929\n",
      "Epoch    9/20, Batch3/3 Cost : 3.291576\n",
      "Epoch   10/20, Batch1/3 Cost : 2.114948\n",
      "Epoch   10/20, Batch2/3 Cost : 1.703551\n",
      "Epoch   10/20, Batch3/3 Cost : 1.858827\n",
      "Epoch   11/20, Batch1/3 Cost : 1.384632\n",
      "Epoch   11/20, Batch2/3 Cost : 2.127483\n",
      "Epoch   11/20, Batch3/3 Cost : 1.137157\n",
      "Epoch   12/20, Batch1/3 Cost : 1.676739\n",
      "Epoch   12/20, Batch2/3 Cost : 1.572715\n",
      "Epoch   12/20, Batch3/3 Cost : 1.059798\n",
      "Epoch   13/20, Batch1/3 Cost : 3.184669\n",
      "Epoch   13/20, Batch2/3 Cost : 2.125730\n",
      "Epoch   13/20, Batch3/3 Cost : 0.204011\n",
      "Epoch   14/20, Batch1/3 Cost : 2.171649\n",
      "Epoch   14/20, Batch2/3 Cost : 1.385781\n",
      "Epoch   14/20, Batch3/3 Cost : 0.959106\n",
      "Epoch   15/20, Batch1/3 Cost : 3.289940\n",
      "Epoch   15/20, Batch2/3 Cost : 1.495163\n",
      "Epoch   15/20, Batch3/3 Cost : 0.982227\n",
      "Epoch   16/20, Batch1/3 Cost : 0.129717\n",
      "Epoch   16/20, Batch2/3 Cost : 2.300065\n",
      "Epoch   16/20, Batch3/3 Cost : 3.388395\n",
      "Epoch   17/20, Batch1/3 Cost : 1.474971\n",
      "Epoch   17/20, Batch2/3 Cost : 1.609772\n",
      "Epoch   17/20, Batch3/3 Cost : 1.300225\n",
      "Epoch   18/20, Batch1/3 Cost : 1.883556\n",
      "Epoch   18/20, Batch2/3 Cost : 0.791665\n",
      "Epoch   18/20, Batch3/3 Cost : 3.396770\n",
      "Epoch   19/20, Batch1/3 Cost : 1.651090\n",
      "Epoch   19/20, Batch2/3 Cost : 1.662937\n",
      "Epoch   19/20, Batch3/3 Cost : 1.011999\n",
      "Epoch   20/20, Batch1/3 Cost : 1.542924\n",
      "Epoch   20/20, Batch2/3 Cost : 1.524061\n",
      "Epoch   20/20, Batch3/3 Cost : 1.595633\n"
     ]
    }
   ],
   "source": [
    "EPOCH = 20\n",
    "for epoch in range(EPOCH + 1):\n",
    "    for batch_idx, samples in enumerate(dataloader):\n",
    "        x_train, y_train = samples\n",
    "        \n",
    "        prediction = model(x_train)\n",
    "        \n",
    "        cost = F.mse_loss(y_train, prediction)\n",
    "        \n",
    "        optimizer.zero_grad()\n",
    "        cost.backward()\n",
    "        optimizer.step()\n",
    "        \n",
    "        print('Epoch {:4d}/{}, Batch{}/{} Cost : {:.6f}'.format(\n",
    "        epoch, EPOCH, batch_idx+1, len(dataloader), cost.item()))"
   ]
  },
  {
   "cell_type": "code",
   "execution_count": null,
   "id": "6d5aebe7",
   "metadata": {},
   "outputs": [],
   "source": [
    "new = torch.Fo"
   ]
  }
 ],
 "metadata": {
  "kernelspec": {
   "display_name": "Python 3 (ipykernel)",
   "language": "python",
   "name": "python3"
  },
  "language_info": {
   "codemirror_mode": {
    "name": "ipython",
    "version": 3
   },
   "file_extension": ".py",
   "mimetype": "text/x-python",
   "name": "python",
   "nbconvert_exporter": "python",
   "pygments_lexer": "ipython3",
   "version": "3.8.8"
  }
 },
 "nbformat": 4,
 "nbformat_minor": 5
}
