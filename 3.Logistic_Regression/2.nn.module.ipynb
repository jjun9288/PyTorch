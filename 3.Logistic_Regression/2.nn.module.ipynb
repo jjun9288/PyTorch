{
 "cells": [
  {
   "cell_type": "markdown",
   "id": "3e774d4d",
   "metadata": {},
   "source": [
    "## nn.Module로 구현하는 Logistic regression"
   ]
  },
  {
   "cell_type": "markdown",
   "id": "c24a8082",
   "metadata": {},
   "source": [
    "간단하다. H(x) = sigmoid(Wx + b)를 nn.sigmoid()를 통해 학습하면 된다."
   ]
  },
  {
   "cell_type": "code",
   "execution_count": 1,
   "id": "ffa1d4c7",
   "metadata": {},
   "outputs": [],
   "source": [
    "import torch\n",
    "import torch.nn as nn\n",
    "import torch.nn.functional as F\n",
    "import torch.optim as optim"
   ]
  },
  {
   "cell_type": "code",
   "execution_count": 2,
   "id": "8e38b094",
   "metadata": {},
   "outputs": [
    {
     "data": {
      "text/plain": [
       "<torch._C.Generator at 0x193ce5a6730>"
      ]
     },
     "execution_count": 2,
     "metadata": {},
     "output_type": "execute_result"
    }
   ],
   "source": [
    "torch.manual_seed(1)"
   ]
  },
  {
   "cell_type": "code",
   "execution_count": 4,
   "id": "cdef2158",
   "metadata": {},
   "outputs": [],
   "source": [
    "x_data = [[1,2], [2,3], [3,1], [4,3], [5,3], [6,2]]\n",
    "y_data = [[0], [0], [0], [1], [1], [1]]\n",
    "\n",
    "x_train = torch.FloatTensor(x_data)\n",
    "y_train = torch.FloatTensor(y_data)"
   ]
  },
  {
   "cell_type": "code",
   "execution_count": 6,
   "id": "ba7e9636",
   "metadata": {},
   "outputs": [],
   "source": [
    "model = nn.Sequential(nn.Linear(2,1),\n",
    "                     nn.Sigmoid()\n",
    "                     )"
   ]
  },
  {
   "cell_type": "code",
   "execution_count": 7,
   "id": "3650a89e",
   "metadata": {},
   "outputs": [
    {
     "data": {
      "text/plain": [
       "tensor([[0.3600],\n",
       "        [0.2872],\n",
       "        [0.6801],\n",
       "        [0.4389],\n",
       "        [0.5216],\n",
       "        [0.7473]], grad_fn=<SigmoidBackward0>)"
      ]
     },
     "execution_count": 7,
     "metadata": {},
     "output_type": "execute_result"
    }
   ],
   "source": [
    "model(x_train)"
   ]
  },
  {
   "cell_type": "code",
   "execution_count": 8,
   "id": "8ac9aed6",
   "metadata": {},
   "outputs": [
    {
     "name": "stdout",
     "output_type": "stream",
     "text": [
      "Epoch    0/1000, Cost : 0.614994, Accuracy : 66.67%\n",
      "Epoch  100/1000, Cost : 0.140280, Accuracy : 100.00%\n",
      "Epoch  200/1000, Cost : 0.082549, Accuracy : 100.00%\n",
      "Epoch  300/1000, Cost : 0.058858, Accuracy : 100.00%\n",
      "Epoch  400/1000, Cost : 0.045878, Accuracy : 100.00%\n",
      "Epoch  500/1000, Cost : 0.037649, Accuracy : 100.00%\n",
      "Epoch  600/1000, Cost : 0.031951, Accuracy : 100.00%\n",
      "Epoch  700/1000, Cost : 0.027766, Accuracy : 100.00%\n",
      "Epoch  800/1000, Cost : 0.024558, Accuracy : 100.00%\n",
      "Epoch  900/1000, Cost : 0.022020, Accuracy : 100.00%\n",
      "Epoch 1000/1000, Cost : 0.019960, Accuracy : 100.00%\n"
     ]
    }
   ],
   "source": [
    "optimizer = optim.SGD(model.parameters(), lr = 1)\n",
    "\n",
    "EPOCH = 1000\n",
    "\n",
    "for epoch in range(EPOCH + 1):\n",
    "    \n",
    "    hypothesis = model(x_train)\n",
    "    \n",
    "    cost = F.binary_cross_entropy(hypothesis, y_train)\n",
    "    \n",
    "    optimizer.zero_grad()\n",
    "    cost.backward()\n",
    "    optimizer.step()\n",
    "    \n",
    "    if epoch % 100 == 0:\n",
    "        prediction = hypothesis >= torch.FloatTensor([0.5])\n",
    "        correct_prediction = prediction.float() == y_train\n",
    "        accuracy = correct_prediction.sum() / len(correct_prediction)\n",
    "        print('Epoch {:4d}/{}, Cost : {:.6f}, Accuracy : {:2.2f}%'.format(epoch, EPOCH, cost.item(), accuracy*100))"
   ]
  },
  {
   "cell_type": "code",
   "execution_count": 9,
   "id": "b24de004",
   "metadata": {},
   "outputs": [
    {
     "name": "stdout",
     "output_type": "stream",
     "text": [
      "[Parameter containing:\n",
      "tensor([[3.2477, 1.5151]], requires_grad=True), Parameter containing:\n",
      "tensor([-14.4576], requires_grad=True)]\n"
     ]
    }
   ],
   "source": [
    "print(list(model.parameters()))"
   ]
  }
 ],
 "metadata": {
  "kernelspec": {
   "display_name": "Python 3 (ipykernel)",
   "language": "python",
   "name": "python3"
  },
  "language_info": {
   "codemirror_mode": {
    "name": "ipython",
    "version": 3
   },
   "file_extension": ".py",
   "mimetype": "text/x-python",
   "name": "python",
   "nbconvert_exporter": "python",
   "pygments_lexer": "ipython3",
   "version": "3.8.8"
  }
 },
 "nbformat": 4,
 "nbformat_minor": 5
}
