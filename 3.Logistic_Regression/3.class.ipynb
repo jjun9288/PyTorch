{
 "cells": [
  {
   "cell_type": "markdown",
   "id": "0bfe79ec",
   "metadata": {},
   "source": [
    "## 클래스로 구현하기"
   ]
  },
  {
   "cell_type": "code",
   "execution_count": 19,
   "id": "141d3218",
   "metadata": {},
   "outputs": [],
   "source": [
    "import torch\n",
    "import torch.nn as nn\n",
    "import torch.nn.functional as F\n",
    "import torch.optim as optim"
   ]
  },
  {
   "cell_type": "code",
   "execution_count": 20,
   "id": "81e49622",
   "metadata": {},
   "outputs": [
    {
     "data": {
      "text/plain": [
       "<torch._C.Generator at 0x1ddfffb6730>"
      ]
     },
     "execution_count": 20,
     "metadata": {},
     "output_type": "execute_result"
    }
   ],
   "source": [
    "torch.manual_seed(1)"
   ]
  },
  {
   "cell_type": "code",
   "execution_count": 21,
   "id": "f6a9b4bf",
   "metadata": {},
   "outputs": [],
   "source": [
    "x_data = [[1,2], [2,3], [3,1], [4,3], [5,3], [6,2]]\n",
    "y_data = [[0], [0], [0], [1], [1], [1]]\n",
    "\n",
    "x_train = torch.FloatTensor(x_data)\n",
    "y_train = torch.FloatTensor(y_data)"
   ]
  },
  {
   "cell_type": "code",
   "execution_count": 22,
   "id": "055bc330",
   "metadata": {},
   "outputs": [],
   "source": [
    "class BinaryClassifier(nn.Module):\n",
    "    def __init__(self):\n",
    "        super().__init__()\n",
    "        self.linear = nn.Linear(2,1)\n",
    "        self.sigmoid = nn.Sigmoid()\n",
    "        \n",
    "    def forward(self, x):\n",
    "        return self.sigmoid(self.linear(x))"
   ]
  },
  {
   "cell_type": "code",
   "execution_count": 23,
   "id": "f87417ef",
   "metadata": {},
   "outputs": [],
   "source": [
    "model = BinaryClassifier()"
   ]
  },
  {
   "cell_type": "code",
   "execution_count": 24,
   "id": "666b3b9e",
   "metadata": {},
   "outputs": [
    {
     "name": "stdout",
     "output_type": "stream",
     "text": [
      "Epoch    0/1000, Cost : 0.539713, Accuracy : 83.33%\n",
      "Epoch  100/1000, Cost : 0.134272, Accuracy : 100.00%\n",
      "Epoch  200/1000, Cost : 0.080486, Accuracy : 100.00%\n",
      "Epoch  300/1000, Cost : 0.057820, Accuracy : 100.00%\n",
      "Epoch  400/1000, Cost : 0.045251, Accuracy : 100.00%\n",
      "Epoch  500/1000, Cost : 0.037228, Accuracy : 100.00%\n",
      "Epoch  600/1000, Cost : 0.031649, Accuracy : 100.00%\n",
      "Epoch  700/1000, Cost : 0.027538, Accuracy : 100.00%\n",
      "Epoch  800/1000, Cost : 0.024381, Accuracy : 100.00%\n",
      "Epoch  900/1000, Cost : 0.021877, Accuracy : 100.00%\n",
      "Epoch 1000/1000, Cost : 0.019843, Accuracy : 100.00%\n"
     ]
    }
   ],
   "source": [
    "optimizer = optim.SGD(model.parameters(), lr=1)\n",
    "\n",
    "EPOCH = 1000\n",
    "\n",
    "for epoch in range(EPOCH + 1):\n",
    "    \n",
    "    hypothesis = model(x_train)\n",
    "    \n",
    "    cost = F.binary_cross_entropy(hypothesis, y_train)\n",
    "    \n",
    "    optimizer.zero_grad()\n",
    "    cost.backward()\n",
    "    optimizer.step()\n",
    "    \n",
    "    if epoch % 100 == 0:\n",
    "        prediction = hypothesis >= torch.FloatTensor([0.5])\n",
    "        correct_prediction = prediction.float() == y_train\n",
    "        accuracy = correct_prediction.sum() / len(correct_prediction)\n",
    "        print('Epoch {:4d}/{}, Cost : {:.6f}, Accuracy : {:2.2f}%'.format(epoch, EPOCH, cost.item(), accuracy*100))"
   ]
  },
  {
   "cell_type": "code",
   "execution_count": null,
   "id": "6b6acd00",
   "metadata": {},
   "outputs": [],
   "source": []
  }
 ],
 "metadata": {
  "kernelspec": {
   "display_name": "Python 3 (ipykernel)",
   "language": "python",
   "name": "python3"
  },
  "language_info": {
   "codemirror_mode": {
    "name": "ipython",
    "version": 3
   },
   "file_extension": ".py",
   "mimetype": "text/x-python",
   "name": "python",
   "nbconvert_exporter": "python",
   "pygments_lexer": "ipython3",
   "version": "3.8.8"
  }
 },
 "nbformat": 4,
 "nbformat_minor": 5
}
