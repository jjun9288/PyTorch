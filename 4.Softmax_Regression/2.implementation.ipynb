{
 "cells": [
  {
   "cell_type": "markdown",
   "id": "34f0ff20",
   "metadata": {},
   "source": [
    "## Softmax regression 구현"
   ]
  },
  {
   "cell_type": "code",
   "execution_count": 1,
   "id": "cba76e00",
   "metadata": {},
   "outputs": [],
   "source": [
    "import torch\n",
    "import torch.nn as nn\n",
    "import torch.nn.functional as F\n",
    "import torch.optim as optim"
   ]
  },
  {
   "cell_type": "code",
   "execution_count": 2,
   "id": "8425aad7",
   "metadata": {},
   "outputs": [
    {
     "data": {
      "text/plain": [
       "<torch._C.Generator at 0x14fa39f6730>"
      ]
     },
     "execution_count": 2,
     "metadata": {},
     "output_type": "execute_result"
    }
   ],
   "source": [
    "torch.manual_seed(1)"
   ]
  },
  {
   "cell_type": "code",
   "execution_count": 3,
   "id": "d555f52b",
   "metadata": {},
   "outputs": [],
   "source": [
    "x_train = [[1,2,1,1],\n",
    "          [2,1,3,2],\n",
    "          [3,1,3,4],\n",
    "          [4,1,5,5],\n",
    "          [1,7,5,5],\n",
    "          [1,2,5,6],\n",
    "          [1,6,6,6],\n",
    "          [1,7,7,7]]\n",
    "y_train = [2, 2, 2, 1, 1, 1, 0, 0]\n",
    "\n",
    "x_train = torch.FloatTensor(x_train)\n",
    "y_train = torch.LongTensor(y_train)"
   ]
  },
  {
   "cell_type": "markdown",
   "id": "0747e993",
   "metadata": {},
   "source": [
    "x_train의 각 샘플은 4개의 특성을 가지고 있고, 총 8개의 샘플이 존재한다.   \n",
    "y_train은 각 샘플에 대한 레이블로, 여기서는 0,1,2 총 3개의 클래스가 존재한다."
   ]
  },
  {
   "cell_type": "markdown",
   "id": "48ff8e6c",
   "metadata": {},
   "source": [
    "\n",
    "x_train의 size는 8x4, y_train의 size는 8x1이다. 하지만 최종 사용할 레이블은 y_train에서 one-hot encoding을 한 결과여야 한다.   \n",
    "즉 클래스의 갯수는 3개이므로 y_train에 one-hot encoding한 결과는 8x3의 갯수를 가져야 한다.   \n",
    "(2 -> 0 0 1)"
   ]
  },
  {
   "cell_type": "code",
   "execution_count": 4,
   "id": "f79b764c",
   "metadata": {},
   "outputs": [
    {
     "name": "stdout",
     "output_type": "stream",
     "text": [
      "torch.Size([8, 3])\n"
     ]
    }
   ],
   "source": [
    "y_one_hot = torch.zeros(8,3)\n",
    "y_one_hot.scatter_(1, y_train.unsqueeze(1), 1)\n",
    "print(y_one_hot.shape)"
   ]
  },
  {
   "cell_type": "markdown",
   "id": "fd9a9c3c",
   "metadata": {},
   "source": [
    "이제 W의 size는 각각 4x3이 되어야 한다."
   ]
  },
  {
   "cell_type": "code",
   "execution_count": 5,
   "id": "dcbb90bd",
   "metadata": {},
   "outputs": [],
   "source": [
    "W = torch.zeros((4,3), requires_grad=True)\n",
    "b = torch.zeros(1, requires_grad=True)"
   ]
  },
  {
   "cell_type": "code",
   "execution_count": 6,
   "id": "f6b27933",
   "metadata": {},
   "outputs": [],
   "source": [
    "optimizer = optim.SGD([W,b], lr=0.1)"
   ]
  },
  {
   "cell_type": "code",
   "execution_count": 7,
   "id": "f35f6142",
   "metadata": {},
   "outputs": [
    {
     "name": "stdout",
     "output_type": "stream",
     "text": [
      "Epoch    0/1000 Cost : 1.098612\n",
      "Epoch  100/1000 Cost : 0.761050\n",
      "Epoch  200/1000 Cost : 0.689991\n",
      "Epoch  300/1000 Cost : 0.643229\n",
      "Epoch  400/1000 Cost : 0.604117\n",
      "Epoch  500/1000 Cost : 0.568255\n",
      "Epoch  600/1000 Cost : 0.533922\n",
      "Epoch  700/1000 Cost : 0.500291\n",
      "Epoch  800/1000 Cost : 0.466908\n",
      "Epoch  900/1000 Cost : 0.433507\n",
      "Epoch 1000/1000 Cost : 0.399962\n"
     ]
    }
   ],
   "source": [
    "EPOCH = 1000\n",
    "\n",
    "for epoch in range(EPOCH + 1):\n",
    "    \n",
    "    hypothesis = x_train.matmul(W) + b\n",
    "    \n",
    "    cost = F.cross_entropy(hypothesis, y_train)\n",
    "    \n",
    "    optimizer.zero_grad()\n",
    "    cost.backward()\n",
    "    optimizer.step()\n",
    "    \n",
    "    if epoch % 100 == 0:\n",
    "        print('Epoch {:4d}/{} Cost : {:.6f}'.format(epoch, EPOCH, cost.item()))"
   ]
  },
  {
   "cell_type": "markdown",
   "id": "8293e279",
   "metadata": {},
   "source": [
    "### 2. nn.Module로 구현"
   ]
  },
  {
   "cell_type": "code",
   "execution_count": 8,
   "id": "e815fe3c",
   "metadata": {},
   "outputs": [],
   "source": [
    "model = nn.Linear(4,3)"
   ]
  },
  {
   "cell_type": "code",
   "execution_count": 9,
   "id": "57ac8608",
   "metadata": {},
   "outputs": [
    {
     "name": "stdout",
     "output_type": "stream",
     "text": [
      "Epoch    0/1000, Cost : 1.616785\n",
      "Epoch  100/1000, Cost : 0.658891\n",
      "Epoch  200/1000, Cost : 0.573444\n",
      "Epoch  300/1000, Cost : 0.518151\n",
      "Epoch  400/1000, Cost : 0.473266\n",
      "Epoch  500/1000, Cost : 0.433516\n",
      "Epoch  600/1000, Cost : 0.396563\n",
      "Epoch  700/1000, Cost : 0.360914\n",
      "Epoch  800/1000, Cost : 0.325392\n",
      "Epoch  900/1000, Cost : 0.289179\n",
      "Epoch 1000/1000, Cost : 0.254148\n"
     ]
    }
   ],
   "source": [
    "optimizer = optim.SGD(model.parameters(), lr=0.1)\n",
    "\n",
    "EPOCH = 1000\n",
    "for epoch in range(EPOCH + 1):\n",
    "    \n",
    "    prediction = model(x_train)\n",
    "    \n",
    "    cost = F.cross_entropy(prediction, y_train)\n",
    "    \n",
    "    optimizer.zero_grad()\n",
    "    cost.backward()\n",
    "    optimizer.step()\n",
    "    \n",
    "    if epoch % 100 == 0:\n",
    "        print('Epoch {:4d}/{}, Cost : {:.6f}'.format(epoch, EPOCH, cost.item()))"
   ]
  },
  {
   "cell_type": "markdown",
   "id": "81297f32",
   "metadata": {},
   "source": [
    "### 3. Class로 구현"
   ]
  },
  {
   "cell_type": "code",
   "execution_count": 10,
   "id": "f58bbb76",
   "metadata": {},
   "outputs": [],
   "source": [
    "class SoftmaxClassifierModel(nn.Module):\n",
    "    def __init__(self):\n",
    "        super().__init__()\n",
    "        self.linear = nn.Linear(4,3)\n",
    "        \n",
    "    def forward(self, x):\n",
    "        return self.linear(x)"
   ]
  },
  {
   "cell_type": "code",
   "execution_count": 11,
   "id": "7e180b6c",
   "metadata": {},
   "outputs": [],
   "source": [
    "model = SoftmaxClassifierModel()"
   ]
  },
  {
   "cell_type": "code",
   "execution_count": 12,
   "id": "121c6bf9",
   "metadata": {},
   "outputs": [
    {
     "name": "stdout",
     "output_type": "stream",
     "text": [
      "Epoch    0/1000 Cost : 2.637636\n",
      "Epoch  100/1000 Cost : 0.647903\n",
      "Epoch  200/1000 Cost : 0.564643\n",
      "Epoch  300/1000 Cost : 0.511043\n",
      "Epoch  400/1000 Cost : 0.467249\n",
      "Epoch  500/1000 Cost : 0.428280\n",
      "Epoch  600/1000 Cost : 0.391924\n",
      "Epoch  700/1000 Cost : 0.356742\n",
      "Epoch  800/1000 Cost : 0.321577\n",
      "Epoch  900/1000 Cost : 0.285617\n",
      "Epoch 1000/1000 Cost : 0.250818\n"
     ]
    }
   ],
   "source": [
    "optimizer = optim.SGD(model.parameters(), lr=0.1)\n",
    "\n",
    "EPOCH = 1000\n",
    "\n",
    "for epoch in range(EPOCH + 1):\n",
    "    \n",
    "    prediction = model(x_train)\n",
    "    \n",
    "    cost = F.cross_entropy(prediction, y_train)\n",
    "    \n",
    "    optimizer.zero_grad()\n",
    "    cost.backward()\n",
    "    optimizer.step()\n",
    "    \n",
    "    if epoch % 100 == 0:\n",
    "        print('Epoch {:4d}/{} Cost : {:.6f}'.format(epoch, EPOCH, cost.item()))"
   ]
  },
  {
   "cell_type": "code",
   "execution_count": null,
   "id": "7f00aa8a",
   "metadata": {},
   "outputs": [],
   "source": []
  }
 ],
 "metadata": {
  "kernelspec": {
   "display_name": "Python 3 (ipykernel)",
   "language": "python",
   "name": "python3"
  },
  "language_info": {
   "codemirror_mode": {
    "name": "ipython",
    "version": 3
   },
   "file_extension": ".py",
   "mimetype": "text/x-python",
   "name": "python",
   "nbconvert_exporter": "python",
   "pygments_lexer": "ipython3",
   "version": "3.8.8"
  }
 },
 "nbformat": 4,
 "nbformat_minor": 5
}
