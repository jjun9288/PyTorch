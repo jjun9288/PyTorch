{
 "cells": [
  {
   "cell_type": "markdown",
   "id": "3eaa4dc6",
   "metadata": {},
   "source": [
    "### 다층 퍼셉트론으로 손글씨 분류하기"
   ]
  },
  {
   "cell_type": "markdown",
   "id": "7f63f10a",
   "metadata": {},
   "source": [
    "#### (1) 데이터셋 살펴보기"
   ]
  },
  {
   "cell_type": "code",
   "execution_count": 15,
   "id": "3bc7d179",
   "metadata": {},
   "outputs": [],
   "source": [
    "%matplotlib inline\n",
    "import matplotlib.pyplot as plt\n",
    "import numpy as np\n",
    "from sklearn.datasets import load_digits\n",
    "digits = load_digits()"
   ]
  },
  {
   "cell_type": "markdown",
   "id": "c727aab4",
   "metadata": {},
   "source": [
    "- 첫 번째 샘플 출력. 0보다 큰 숫자들을 검정색 점이라고 상상해보면 숫자 0의 실루엣처럼 보인다."
   ]
  },
  {
   "cell_type": "code",
   "execution_count": 2,
   "id": "01629c4a",
   "metadata": {},
   "outputs": [
    {
     "name": "stdout",
     "output_type": "stream",
     "text": [
      "[[ 0.  0.  5. 13.  9.  1.  0.  0.]\n",
      " [ 0.  0. 13. 15. 10. 15.  5.  0.]\n",
      " [ 0.  3. 15.  2.  0. 11.  8.  0.]\n",
      " [ 0.  4. 12.  0.  0.  8.  8.  0.]\n",
      " [ 0.  5.  8.  0.  0.  9.  8.  0.]\n",
      " [ 0.  4. 11.  0.  1. 12.  7.  0.]\n",
      " [ 0.  2. 14.  5. 10. 12.  0.  0.]\n",
      " [ 0.  0.  6. 13. 10.  0.  0.  0.]]\n"
     ]
    }
   ],
   "source": [
    "print(digits.images[0])"
   ]
  },
  {
   "cell_type": "code",
   "execution_count": 4,
   "id": "eb8062c1",
   "metadata": {},
   "outputs": [
    {
     "name": "stdout",
     "output_type": "stream",
     "text": [
      "0\n"
     ]
    }
   ],
   "source": [
    "print(digits.target[0])"
   ]
  },
  {
   "cell_type": "code",
   "execution_count": 5,
   "id": "d959bf66",
   "metadata": {},
   "outputs": [
    {
     "name": "stdout",
     "output_type": "stream",
     "text": [
      "전체 샘플 수 : 1797\n"
     ]
    }
   ],
   "source": [
    "print('전체 샘플 수 : {}'.format(len(digits.images)))"
   ]
  },
  {
   "cell_type": "markdown",
   "id": "cd70cd6d",
   "metadata": {},
   "source": [
    "- digits.data는 8x8 행렬로 저장된 digits.images를 64차원의 벡터로 변환해서 저장한 형태이다."
   ]
  },
  {
   "cell_type": "code",
   "execution_count": 7,
   "id": "026fbf11",
   "metadata": {},
   "outputs": [
    {
     "name": "stdout",
     "output_type": "stream",
     "text": [
      "[ 0.  0.  5. 13.  9.  1.  0.  0.  0.  0. 13. 15. 10. 15.  5.  0.  0.  3.\n",
      " 15.  2.  0. 11.  8.  0.  0.  4. 12.  0.  0.  8.  8.  0.  0.  5.  8.  0.\n",
      "  0.  9.  8.  0.  0.  4. 11.  0.  1. 12.  7.  0.  0.  2. 14.  5. 10. 12.\n",
      "  0.  0.  0.  0.  6. 13. 10.  0.  0.  0.]\n"
     ]
    }
   ],
   "source": [
    "print(digits.data[0])"
   ]
  },
  {
   "cell_type": "code",
   "execution_count": 8,
   "id": "910584eb",
   "metadata": {},
   "outputs": [],
   "source": [
    "X = digits.data\n",
    "Y = digits.target"
   ]
  },
  {
   "cell_type": "markdown",
   "id": "9062ddb0",
   "metadata": {},
   "source": [
    "#### (2) 다층 퍼셉트론 분류기 만들기"
   ]
  },
  {
   "cell_type": "code",
   "execution_count": 9,
   "id": "53c02786",
   "metadata": {},
   "outputs": [],
   "source": [
    "import torch\n",
    "import torch.nn as nn\n",
    "from torch import optim"
   ]
  },
  {
   "cell_type": "code",
   "execution_count": 10,
   "id": "4ff7950e",
   "metadata": {},
   "outputs": [],
   "source": [
    "model = nn.Sequential(\n",
    "nn.Linear(64, 32),  #input layer = 64, hidden layer = 32\n",
    "nn.ReLU(),\n",
    "nn.Linear(32, 16),  #input layer = 32, hidden layer = 16\n",
    "nn.ReLU(),\n",
    "nn.Linear(16, 10)   #input layer = 16, output layer = 10\n",
    ")"
   ]
  },
  {
   "cell_type": "code",
   "execution_count": 11,
   "id": "34b65f36",
   "metadata": {},
   "outputs": [],
   "source": [
    "X = torch.tensor(X, dtype = torch.float32)\n",
    "Y = torch.tensor(Y, dtype = torch.int64)"
   ]
  },
  {
   "cell_type": "code",
   "execution_count": 13,
   "id": "9724b903",
   "metadata": {},
   "outputs": [],
   "source": [
    "loss_fn = nn.CrossEntropyLoss()\n",
    "optimizer = optim.Adam(model.parameters())\n",
    "losses = []"
   ]
  },
  {
   "cell_type": "code",
   "execution_count": 14,
   "id": "2dd4d754",
   "metadata": {},
   "outputs": [
    {
     "name": "stdout",
     "output_type": "stream",
     "text": [
      "Epoch    0 / 100 Cost : 2.531521\n",
      "Epoch   10 / 100 Cost : 2.202123\n",
      "Epoch   20 / 100 Cost : 2.011299\n",
      "Epoch   30 / 100 Cost : 1.757547\n",
      "Epoch   40 / 100 Cost : 1.514845\n",
      "Epoch   50 / 100 Cost : 1.239010\n",
      "Epoch   60 / 100 Cost : 0.946705\n",
      "Epoch   70 / 100 Cost : 0.683194\n",
      "Epoch   80 / 100 Cost : 0.482657\n",
      "Epoch   90 / 100 Cost : 0.355184\n"
     ]
    }
   ],
   "source": [
    "for epoch in range(100):\n",
    "    optimizer.zero_grad()\n",
    "    y_pred = model(X)\n",
    "    loss = loss_fn(y_pred, Y)\n",
    "    loss.backward()\n",
    "    optimizer.step()\n",
    "    \n",
    "    if epoch % 10 == 0:\n",
    "        print('Epoch {:4d} / {} Cost : {:.6f}'.format(epoch, 100, loss.item()))\n",
    "    losses.append(loss.item())"
   ]
  }
 ],
 "metadata": {
  "kernelspec": {
   "display_name": "Python 3 (ipykernel)",
   "language": "python",
   "name": "python3"
  },
  "language_info": {
   "codemirror_mode": {
    "name": "ipython",
    "version": 3
   },
   "file_extension": ".py",
   "mimetype": "text/x-python",
   "name": "python",
   "nbconvert_exporter": "python",
   "pygments_lexer": "ipython3",
   "version": "3.8.8"
  }
 },
 "nbformat": 4,
 "nbformat_minor": 5
}
